{
 "cells": [
  {
   "cell_type": "code",
   "execution_count": null,
   "metadata": {},
   "outputs": [],
   "source": [
    "* [pandas] (https://pandas.pydata.org/)\n",
    "* [scikit-learn] (https://scikit-learn.org/stable/)\n",
    "* [matplotlib] (https://matplotlib.org/)\n",
    "* [mglearn]"
   ]
  },
  {
   "cell_type": "code",
   "execution_count": 4,
   "metadata": {},
   "outputs": [],
   "source": [
    "import pandas as pd\n",
    "import numpy as np\n",
    "import matplotlib \n",
    "from sklearn.datasets import load_iris\n",
    "from sklearn.model_selection import train_test_split"
   ]
  },
  {
   "cell_type": "markdown",
   "metadata": {},
   "source": [
    "# 데이터 적재"
   ]
  },
  {
   "cell_type": "code",
   "execution_count": 8,
   "metadata": {},
   "outputs": [
    {
     "data": {
      "text/plain": [
       "array(['setosa', 'versicolor', 'virginica'], dtype='<U10')"
      ]
     },
     "execution_count": 8,
     "metadata": {},
     "output_type": "execute_result"
    }
   ],
   "source": [
    "iris = load_iris()\n",
    "iris.keys()\n",
    "iris['target']\n",
    "iris['target_names']\n",
    "\n",
    "# pandas 로 합쳐야 됨"
   ]
  },
  {
   "cell_type": "markdown",
   "metadata": {},
   "source": [
    "## 살펴보기\n",
    "- size(열/행 갯수)\n",
    "- 관측자료\n",
    "- 타입(df.info())\n",
    "\n",
    "붓꽃 데이터는 다 정제된 데이터, 살펴보기는 타이타닉 데이터 정도에서 한다. (정형 데이터)\n",
    "\n",
    "반환 값은 튜플(ordering)로 나온다. (X_train, y_train | x_test, y_test)"
   ]
  },
  {
   "cell_type": "code",
   "execution_count": null,
   "metadata": {},
   "outputs": [],
   "source": [
    "X_train, X_test, y_train, y_test = train_test_split(iris['data'], iris['target'], random_state=42)"
   ]
  },
  {
   "cell_type": "markdown",
   "metadata": {},
   "source": [
    "## 학습 및 모델\n",
    "\n",
    "데이터를 적절히 잘라야 한다.\n",
    "\n",
    "130개로 학습하고 20개로 시험해본다. -> 안 괜찮아. 1. 20문제 미적분만? 2. 학습은 미적분이 없는데 평가는 미적분? (학습, 평가 전단위의 문제 골고루 들어있어야 한다)\n",
    "\n",
    "X -> Xtrain, Xtest 데이터로 나눠져 나와야 한다.\n",
    "\n",
    "편향이 들어가면 안되며 \"임의로 균등하게\" 나와야 한다.\n",
    "\n",
    "컴퓨터 랜덤은 의사랜덤이라 초기 씨드를 알면 예측 가능: 그래서 그냥 랜덤으로 나누면 된다고 말하면 안된다.\n",
    "\n",
    "(from sklearn.model_selection import train_test_split 사용해야함)\n",
    "\n",
    "사이킷런과 텐서플로는 나오는 순서 다르다."
   ]
  },
  {
   "cell_type": "markdown",
   "metadata": {},
   "source": [
    "## 평가 및 검증"
   ]
  },
  {
   "cell_type": "code",
   "execution_count": 3,
   "metadata": {},
   "outputs": [
    {
     "data": {
      "text/plain": [
       "('2.2.2', '1.26.4', '3.8.4', '1.4.2')"
      ]
     },
     "execution_count": 3,
     "metadata": {},
     "output_type": "execute_result"
    }
   ],
   "source": [
    "(pd.__version__,\n",
    "np.__version__,\n",
    "matplotlib.__version__,\n",
    "sklearn.__version__)"
   ]
  },
  {
   "cell_type": "code",
   "execution_count": null,
   "metadata": {},
   "outputs": [],
   "source": [
    "# 붓꽃 품종 분류\n",
    "\n",
    "회귀(주식 숫자, 틀리는 건 오차 문제일 것임)나 분류(A집합이야 B집합이야, 주식이 오를까 내릴까, 맞맞 틀틀 맞틀 틀맞 네가지 케이스 따라 다름) 문제\n",
    "\n",
    "면접 때 물어보는 건 대부분 지도학습\n",
    "\n",
    "> 분류: 꽃잎 + 꽃받침 => 품종\n",
    "\n",
    "품종이 두개면 이진분류\n",
    "\n",
    "주식 오를까 내릴까: 현상 유지면 내린다(안 오르면)로 답변, 오르는 것에 관심있으면 오르지 않으면 다 내린 것이다.\n",
    "\n",
    "첫번째 import 는 맨 상단에 한다\n",
    "\n"
   ]
  },
  {
   "cell_type": "markdown",
   "metadata": {},
   "source": []
  },
  {
   "cell_type": "code",
   "execution_count": null,
   "metadata": {},
   "outputs": [],
   "source": []
  }
 ],
 "metadata": {
  "kernelspec": {
   "display_name": "Python 3",
   "language": "python",
   "name": "python3"
  },
  "language_info": {
   "codemirror_mode": {
    "name": "ipython",
    "version": 3
   },
   "file_extension": ".py",
   "mimetype": "text/x-python",
   "name": "python",
   "nbconvert_exporter": "python",
   "pygments_lexer": "ipython3",
   "version": "3.9.13"
  }
 },
 "nbformat": 4,
 "nbformat_minor": 2
}
